{
 "cells": [
  {
   "cell_type": "markdown",
   "metadata": {},
   "source": [
    "# Word Embedding Methods\r\n",
    "The different types of word embeddings can be broadly classified into two categories:\r\n",
    "\r\n",
    "<b>Frequency based Embedding:</b>\r\n",
    "* Count Vector\r\n",
    "* TF-IDF Vector\r\n",
    "* Co-Occurrence Vector\r\n",
    "* Global Vectors (GloVe) (Stanford, 2014): factorizes the logarithm of the corpus's word co-occurrence matrix,  similar to the count matrix you’ve used before.\r\n",
    "\r\n",
    "<b>Prediction based Embedding:</b>\r\n",
    "* Continuous bag-of-words (CBOW): the model learns to predict the center word given some context words.\r\n",
    "* Continuous skip-gram / Skip-gram with negative sampling (SGNS): the model learns to predict the words surrounding a given input word.\r\n",
    "* fastText (Facebook, 2016): based on the skip-gram model and takes into account the structure of words by representing words as an n-gram of characters. It supports out-of-vocabulary (OOV) words.\r\n",
    "\r\n",
    "<b>Deep learning, contextual embeddings:</b>\r\n",
    "* BERT (Google, 2018):\r\n",
    "* ELMo (Allen Institute for AI, 2018)\r\n",
    "* GPT-2 (OpenAI, 2018)\r\n",
    "\r\n"
   ]
  },
  {
   "cell_type": "markdown",
   "metadata": {},
   "source": [
    "# Count Vector\r\n",
    "\r\n",
    "Count vector summerizes word occurance with respect to each document."
   ]
  },
  {
   "cell_type": "code",
   "execution_count": 55,
   "metadata": {},
   "outputs": [],
   "source": [
    "import pandas as pd\r\n",
    "import numpy as np"
   ]
  },
  {
   "cell_type": "code",
   "execution_count": 56,
   "metadata": {},
   "outputs": [],
   "source": [
    "from sklearn.feature_extraction.text import CountVectorizer\r\n",
    "\r\n",
    "document = [\"Python is a great Language and this is Python Code\",\r\n",
    "            \"Natural Lanugage Processing with Python is easy\",\r\n",
    "            \"Count Vector is a Natural Lanugage Processing method\"]\r\n",
    "# Create a Vectorizer Object\r\n",
    "vectorizer = CountVectorizer()\r\n",
    "vectorizer.fit(document)\r\n",
    "vector = vectorizer.transform(document)"
   ]
  },
  {
   "cell_type": "code",
   "execution_count": 57,
   "metadata": {},
   "outputs": [
    {
     "data": {
      "text/plain": [
       "dict_keys(['python', 'is', 'great', 'language', 'and', 'this', 'code', 'natural', 'lanugage', 'processing', 'with', 'easy', 'count', 'vector', 'method'])"
      ]
     },
     "execution_count": 57,
     "metadata": {},
     "output_type": "execute_result"
    }
   ],
   "source": [
    "vectorizer.vocabulary_.keys()"
   ]
  },
  {
   "cell_type": "code",
   "execution_count": 58,
   "metadata": {},
   "outputs": [],
   "source": [
    "count_vector = pd.DataFrame(columns=vectorizer.get_feature_names(),\r\n",
    "             index=list(range(len(document))))\r\n",
    "\r\n",
    "count_vector.loc[:, :] = vector.toarray()\r\n"
   ]
  },
  {
   "cell_type": "code",
   "execution_count": 59,
   "metadata": {},
   "outputs": [
    {
     "data": {
      "text/html": [
       "<div>\n",
       "<style scoped>\n",
       "    .dataframe tbody tr th:only-of-type {\n",
       "        vertical-align: middle;\n",
       "    }\n",
       "\n",
       "    .dataframe tbody tr th {\n",
       "        vertical-align: top;\n",
       "    }\n",
       "\n",
       "    .dataframe thead th {\n",
       "        text-align: right;\n",
       "    }\n",
       "</style>\n",
       "<table border=\"1\" class=\"dataframe\">\n",
       "  <thead>\n",
       "    <tr style=\"text-align: right;\">\n",
       "      <th></th>\n",
       "      <th>and</th>\n",
       "      <th>code</th>\n",
       "      <th>count</th>\n",
       "      <th>easy</th>\n",
       "      <th>great</th>\n",
       "      <th>is</th>\n",
       "      <th>language</th>\n",
       "      <th>lanugage</th>\n",
       "      <th>method</th>\n",
       "      <th>natural</th>\n",
       "      <th>processing</th>\n",
       "      <th>python</th>\n",
       "      <th>this</th>\n",
       "      <th>vector</th>\n",
       "      <th>with</th>\n",
       "    </tr>\n",
       "  </thead>\n",
       "  <tbody>\n",
       "    <tr>\n",
       "      <th>0</th>\n",
       "      <td>1</td>\n",
       "      <td>1</td>\n",
       "      <td>0</td>\n",
       "      <td>0</td>\n",
       "      <td>1</td>\n",
       "      <td>2</td>\n",
       "      <td>1</td>\n",
       "      <td>0</td>\n",
       "      <td>0</td>\n",
       "      <td>0</td>\n",
       "      <td>0</td>\n",
       "      <td>2</td>\n",
       "      <td>1</td>\n",
       "      <td>0</td>\n",
       "      <td>0</td>\n",
       "    </tr>\n",
       "    <tr>\n",
       "      <th>1</th>\n",
       "      <td>0</td>\n",
       "      <td>0</td>\n",
       "      <td>0</td>\n",
       "      <td>1</td>\n",
       "      <td>0</td>\n",
       "      <td>1</td>\n",
       "      <td>0</td>\n",
       "      <td>1</td>\n",
       "      <td>0</td>\n",
       "      <td>1</td>\n",
       "      <td>1</td>\n",
       "      <td>1</td>\n",
       "      <td>0</td>\n",
       "      <td>0</td>\n",
       "      <td>1</td>\n",
       "    </tr>\n",
       "    <tr>\n",
       "      <th>2</th>\n",
       "      <td>0</td>\n",
       "      <td>0</td>\n",
       "      <td>1</td>\n",
       "      <td>0</td>\n",
       "      <td>0</td>\n",
       "      <td>1</td>\n",
       "      <td>0</td>\n",
       "      <td>1</td>\n",
       "      <td>1</td>\n",
       "      <td>1</td>\n",
       "      <td>1</td>\n",
       "      <td>0</td>\n",
       "      <td>0</td>\n",
       "      <td>1</td>\n",
       "      <td>0</td>\n",
       "    </tr>\n",
       "  </tbody>\n",
       "</table>\n",
       "</div>"
      ],
      "text/plain": [
       "   and  code  count  easy  great  is  language  lanugage  method  natural  \\\n",
       "0    1     1      0     0      1   2         1         0       0        0   \n",
       "1    0     0      0     1      0   1         0         1       0        1   \n",
       "2    0     0      1     0      0   1         0         1       1        1   \n",
       "\n",
       "   processing  python  this  vector  with  \n",
       "0           0       2     1       0     0  \n",
       "1           1       1     0       0     1  \n",
       "2           1       0     0       1     0  "
      ]
     },
     "execution_count": 59,
     "metadata": {},
     "output_type": "execute_result"
    }
   ],
   "source": [
    "count_vector\r\n"
   ]
  },
  {
   "cell_type": "markdown",
   "metadata": {},
   "source": [
    "The index of above matrix is number of documents and the columns are unique words (features) in the document. "
   ]
  },
  {
   "cell_type": "markdown",
   "metadata": {},
   "source": [
    "# TF-IDF\r\n",
    "\r\n",
    "TF-IDF is a numerical statistic that is intended to reflect how important a word is to a document in a collection or corpus. It is often used as a weighting factor in searches of information retrieval, text mining, and user modeling. The tf–idf value increases proportionally to the number of times a word appears in the document and is offset by the number of documents in the corpus that contain the word, which helps to adjust for the fact that some words appear more frequently in general. \r\n",
    "\r\n",
    "$$ TF-IDF = Term \\quad Frequency \\quad\\times\\quad Inverse \\quad Document  \\quad Frequency$$"
   ]
  },
  {
   "cell_type": "markdown",
   "metadata": {},
   "source": []
  },
  {
   "cell_type": "code",
   "execution_count": 60,
   "metadata": {},
   "outputs": [],
   "source": [
    "from sklearn.feature_extraction.text import TfidfVectorizer\r\n",
    "tf_vectorizer = TfidfVectorizer()\r\n",
    "tf_vector = tf_vectorizer.fit_transform(document)\r\n"
   ]
  },
  {
   "cell_type": "code",
   "execution_count": 61,
   "metadata": {},
   "outputs": [],
   "source": [
    "tf_idf = pd.DataFrame(columns=tf_vectorizer.get_feature_names(),\r\n",
    "                            index=list(range(len(document))))\r\n",
    "\r\n",
    "tf_idf.loc[:, :] = tf_vector.todense()\r\n"
   ]
  },
  {
   "cell_type": "code",
   "execution_count": 62,
   "metadata": {},
   "outputs": [
    {
     "data": {
      "text/html": [
       "<div>\n",
       "<style scoped>\n",
       "    .dataframe tbody tr th:only-of-type {\n",
       "        vertical-align: middle;\n",
       "    }\n",
       "\n",
       "    .dataframe tbody tr th {\n",
       "        vertical-align: top;\n",
       "    }\n",
       "\n",
       "    .dataframe thead th {\n",
       "        text-align: right;\n",
       "    }\n",
       "</style>\n",
       "<table border=\"1\" class=\"dataframe\">\n",
       "  <thead>\n",
       "    <tr style=\"text-align: right;\">\n",
       "      <th></th>\n",
       "      <th>and</th>\n",
       "      <th>code</th>\n",
       "      <th>count</th>\n",
       "      <th>easy</th>\n",
       "      <th>great</th>\n",
       "      <th>is</th>\n",
       "      <th>language</th>\n",
       "      <th>lanugage</th>\n",
       "      <th>method</th>\n",
       "      <th>natural</th>\n",
       "      <th>processing</th>\n",
       "      <th>python</th>\n",
       "      <th>this</th>\n",
       "      <th>vector</th>\n",
       "      <th>with</th>\n",
       "    </tr>\n",
       "  </thead>\n",
       "  <tbody>\n",
       "    <tr>\n",
       "      <th>0</th>\n",
       "      <td>0.338858</td>\n",
       "      <td>0.338858</td>\n",
       "      <td>0.000000</td>\n",
       "      <td>0.000000</td>\n",
       "      <td>0.338858</td>\n",
       "      <td>0.400270</td>\n",
       "      <td>0.338858</td>\n",
       "      <td>0.000000</td>\n",
       "      <td>0.000000</td>\n",
       "      <td>0.000000</td>\n",
       "      <td>0.000000</td>\n",
       "      <td>0.515421</td>\n",
       "      <td>0.338858</td>\n",
       "      <td>0.000000</td>\n",
       "      <td>0.000000</td>\n",
       "    </tr>\n",
       "    <tr>\n",
       "      <th>1</th>\n",
       "      <td>0.000000</td>\n",
       "      <td>0.000000</td>\n",
       "      <td>0.000000</td>\n",
       "      <td>0.463121</td>\n",
       "      <td>0.000000</td>\n",
       "      <td>0.273526</td>\n",
       "      <td>0.000000</td>\n",
       "      <td>0.352215</td>\n",
       "      <td>0.000000</td>\n",
       "      <td>0.352215</td>\n",
       "      <td>0.352215</td>\n",
       "      <td>0.352215</td>\n",
       "      <td>0.000000</td>\n",
       "      <td>0.000000</td>\n",
       "      <td>0.463121</td>\n",
       "    </tr>\n",
       "    <tr>\n",
       "      <th>2</th>\n",
       "      <td>0.000000</td>\n",
       "      <td>0.000000</td>\n",
       "      <td>0.443503</td>\n",
       "      <td>0.000000</td>\n",
       "      <td>0.000000</td>\n",
       "      <td>0.261940</td>\n",
       "      <td>0.000000</td>\n",
       "      <td>0.337295</td>\n",
       "      <td>0.443503</td>\n",
       "      <td>0.337295</td>\n",
       "      <td>0.337295</td>\n",
       "      <td>0.000000</td>\n",
       "      <td>0.000000</td>\n",
       "      <td>0.443503</td>\n",
       "      <td>0.000000</td>\n",
       "    </tr>\n",
       "  </tbody>\n",
       "</table>\n",
       "</div>"
      ],
      "text/plain": [
       "        and      code     count      easy     great        is  language  \\\n",
       "0  0.338858  0.338858  0.000000  0.000000  0.338858  0.400270  0.338858   \n",
       "1  0.000000  0.000000  0.000000  0.463121  0.000000  0.273526  0.000000   \n",
       "2  0.000000  0.000000  0.443503  0.000000  0.000000  0.261940  0.000000   \n",
       "\n",
       "   lanugage    method   natural  processing    python      this    vector  \\\n",
       "0  0.000000  0.000000  0.000000    0.000000  0.515421  0.338858  0.000000   \n",
       "1  0.352215  0.000000  0.352215    0.352215  0.352215  0.000000  0.000000   \n",
       "2  0.337295  0.443503  0.337295    0.337295  0.000000  0.000000  0.443503   \n",
       "\n",
       "       with  \n",
       "0  0.000000  \n",
       "1  0.463121  \n",
       "2  0.000000  "
      ]
     },
     "execution_count": 62,
     "metadata": {},
     "output_type": "execute_result"
    }
   ],
   "source": [
    "tf_idf\r\n"
   ]
  },
  {
   "cell_type": "code",
   "execution_count": null,
   "metadata": {},
   "outputs": [],
   "source": []
  }
 ],
 "metadata": {
  "interpreter": {
   "hash": "11227215df7c7185171b9dd2e2a380ac72bed4200b6223a9767a5351339474f1"
  },
  "kernelspec": {
   "display_name": "Python 3.7.10 64-bit ('base': conda)",
   "name": "python3"
  },
  "language_info": {
   "codemirror_mode": {
    "name": "ipython",
    "version": 3
   },
   "file_extension": ".py",
   "mimetype": "text/x-python",
   "name": "python",
   "nbconvert_exporter": "python",
   "pygments_lexer": "ipython3",
   "version": "3.7.10"
  },
  "orig_nbformat": 4
 },
 "nbformat": 4,
 "nbformat_minor": 2
}