{
 "cells": [
  {
   "cell_type": "markdown",
   "source": [
    "# Sentiment Analysis using XXXX and Spacy\r\n",
    "\r\n",
    "## Dataset: [IMDB Dataset of 50K Movie Reviews (Kaggle)](https://www.kaggle.com/lakshmi25npathi/imdb-dataset-of-50k-movie-reviews)\r\n",
    "## By: Amir Nejad, PhD.\r\n"
   ],
   "metadata": {}
  },
  {
   "cell_type": "code",
   "execution_count": 14,
   "source": [
    "# general\r\n",
    "import pandas as pd\r\n",
    "import numpy as np\r\n",
    "import random\r\n",
    "\r\n",
    "# visualization\r\n",
    "import matplotlib.pyplot as plt\r\n",
    "import seaborn as sns\r\n",
    "\r\n",
    "# NLP & text processing\r\n",
    "import re,string\r\n",
    "from bs4 import BeautifulSoup\r\n",
    "import spacy\r\n",
    "from spacy.tokenizer import Tokenizer\r\n",
    "from spacy.lang.en import English\r\n"
   ],
   "outputs": [],
   "metadata": {}
  },
  {
   "cell_type": "code",
   "execution_count": 15,
   "source": [
    "# Settings'\r\n",
    "# pandas\r\n",
    "pd.set_option(\"display.max_columns\", 250)\r\n",
    "pd.set_option(\"display.max_rows\", 250)\r\n",
    "# matplotlib\r\n",
    "plt.rcParams['figure.figsize'] = (11, 8)\r\n",
    "plt.style.use('fivethirtyeight')\r\n",
    "# random\r\n",
    "SEED = 42\r\n",
    "random.seed(SEED)\r\n",
    "# spacy\r\n",
    "nlp = English()"
   ],
   "outputs": [],
   "metadata": {}
  },
  {
   "cell_type": "code",
   "execution_count": 3,
   "source": [
    "# Inputs\r\n",
    "\r\n",
    "# Path of the data\r\n",
    "PATH_DATA = '../data/IMDB/imdb-dataset-of-50k-movie-reviews.zip'\r\n",
    "# Number of test samples\r\n",
    "test_samples = 10000"
   ],
   "outputs": [],
   "metadata": {}
  },
  {
   "cell_type": "code",
   "execution_count": 4,
   "source": [
    "# read data\r\n",
    "df_raw = pd.read_csv(PATH_DATA, compression='zip')\r\n"
   ],
   "outputs": [],
   "metadata": {}
  },
  {
   "cell_type": "code",
   "execution_count": 5,
   "source": [
    "df_raw.head()\r\n"
   ],
   "outputs": [
    {
     "output_type": "execute_result",
     "data": {
      "text/plain": [
       "                                              review sentiment\n",
       "0  One of the other reviewers has mentioned that ...  positive\n",
       "1  A wonderful little production. <br /><br />The...  positive\n",
       "2  I thought this was a wonderful way to spend ti...  positive\n",
       "3  Basically there's a family where a little boy ...  negative\n",
       "4  Petter Mattei's \"Love in the Time of Money\" is...  positive"
      ],
      "text/html": [
       "<div>\n",
       "<style scoped>\n",
       "    .dataframe tbody tr th:only-of-type {\n",
       "        vertical-align: middle;\n",
       "    }\n",
       "\n",
       "    .dataframe tbody tr th {\n",
       "        vertical-align: top;\n",
       "    }\n",
       "\n",
       "    .dataframe thead th {\n",
       "        text-align: right;\n",
       "    }\n",
       "</style>\n",
       "<table border=\"1\" class=\"dataframe\">\n",
       "  <thead>\n",
       "    <tr style=\"text-align: right;\">\n",
       "      <th></th>\n",
       "      <th>review</th>\n",
       "      <th>sentiment</th>\n",
       "    </tr>\n",
       "  </thead>\n",
       "  <tbody>\n",
       "    <tr>\n",
       "      <th>0</th>\n",
       "      <td>One of the other reviewers has mentioned that ...</td>\n",
       "      <td>positive</td>\n",
       "    </tr>\n",
       "    <tr>\n",
       "      <th>1</th>\n",
       "      <td>A wonderful little production. &lt;br /&gt;&lt;br /&gt;The...</td>\n",
       "      <td>positive</td>\n",
       "    </tr>\n",
       "    <tr>\n",
       "      <th>2</th>\n",
       "      <td>I thought this was a wonderful way to spend ti...</td>\n",
       "      <td>positive</td>\n",
       "    </tr>\n",
       "    <tr>\n",
       "      <th>3</th>\n",
       "      <td>Basically there's a family where a little boy ...</td>\n",
       "      <td>negative</td>\n",
       "    </tr>\n",
       "    <tr>\n",
       "      <th>4</th>\n",
       "      <td>Petter Mattei's \"Love in the Time of Money\" is...</td>\n",
       "      <td>positive</td>\n",
       "    </tr>\n",
       "  </tbody>\n",
       "</table>\n",
       "</div>"
      ]
     },
     "metadata": {},
     "execution_count": 5
    }
   ],
   "metadata": {}
  },
  {
   "cell_type": "code",
   "execution_count": 6,
   "source": [
    "print(\r\n",
    "    f\"Number of Positive Reviews: {len(df_raw[df_raw['sentiment'] =='positive'])}\")\r\n",
    "print(\r\n",
    "    f\"Number of Negative Reviews: {len(df_raw[df_raw['sentiment'] =='negative'])}\")\r\n"
   ],
   "outputs": [
    {
     "output_type": "stream",
     "name": "stdout",
     "text": [
      "Number of Positive Reviews: 25000\n",
      "Number of Negative Reviews: 25000\n"
     ]
    }
   ],
   "metadata": {}
  },
  {
   "cell_type": "markdown",
   "source": [
    "# Problem Solving Steps\r\n",
    "* Review cleaning\r\n",
    "* Train/test split\r\n",
    "* Model Build\r\n",
    "* Model Train\r\n",
    "* QC & Evaluate\r\n",
    "* Prediction"
   ],
   "metadata": {}
  },
  {
   "cell_type": "markdown",
   "source": [
    "### Cleaning the reviews data"
   ],
   "metadata": {}
  },
  {
   "cell_type": "code",
   "execution_count": 53,
   "source": [
    "def cleaner(text):\r\n",
    "    # cleaning reviews from the html tags\r\n",
    "    text_cleaned = BeautifulSoup(text, \"html.parser\").get_text()\r\n",
    "    # removing any urls\r\n",
    "    text_cleaned = re.sub(r'http\\S+', ' ', text_cleaned)\r\n",
    "    # removing brackets & parantheiss etc\r\n",
    "    text_cleaned = re.sub(r\"[\\([{})\\]]\",' ', text_cleaned)\r\n",
    "    # removing some special characters\r\n",
    "    text_cleaned = re.sub(r\"[^0-9a-zA-Z:!?'.,]+\",' ', text_cleaned)\r\n",
    "    return text_cleaned\r\n"
   ],
   "outputs": [],
   "metadata": {}
  },
  {
   "cell_type": "code",
   "execution_count": 54,
   "source": [
    "# df is a processed version of df_raw\r\n",
    "df = df_raw.copy()\r\n",
    "df['review'] = df['review'].apply(lambda review: cleaner(review))\r\n"
   ],
   "outputs": [],
   "metadata": {}
  },
  {
   "cell_type": "code",
   "execution_count": 55,
   "source": [
    "index = 17\r\n",
    "# looking at some cleaned reviews (before and after)\r\n",
    "print(\"Before:  \"+df_raw['review'].iloc[index] + \" - \" * 20+' After:  ' + df['review'].iloc[index])\r\n"
   ],
   "outputs": [
    {
     "output_type": "stream",
     "name": "stdout",
     "text": [
      "Before:  This movie made it into one of my top 10 most awful movies. Horrible. <br /><br />There wasn't a continuous minute where there wasn't a fight with one monster or another. There was no chance for any character development, they were too busy running from one sword fight to another. I had no emotional attachment (except to the big bad machine that wanted to destroy them) <br /><br />Scenes were blatantly stolen from other movies, LOTR, Star Wars and Matrix. <br /><br />Examples<br /><br />>The ghost scene at the end was stolen from the final scene of the old Star Wars with Yoda, Obee One and Vader. <br /><br />>The spider machine in the beginning was exactly like Frodo being attacked by the spider in Return of the Kings. (Elijah Wood is the victim in both films) and wait......it hypnotizes (stings) its victim and wraps them up.....uh hello????<br /><br />>And the whole machine vs. humans theme WAS the Matrix..or Terminator.....<br /><br />There are more examples but why waste the time? And will someone tell me what was with the Nazi's?!?! Nazi's???? <br /><br />There was a juvenile story line rushed to a juvenile conclusion. The movie could not decide if it was a children's movie or an adult movie and wasn't much of either. <br /><br />Just awful. A real disappointment to say the least. Save your money. -  -  -  -  -  -  -  -  -  -  -  -  -  -  -  -  -  -  -  -  After:  This movie made it into one of my top 10 most awful movies. Horrible. There wasn't a continuous minute where there wasn't a fight with one monster or another. There was no chance for any character development, they were too busy running from one sword fight to another. I had no emotional attachment except to the big bad machine that wanted to destroy them Scenes were blatantly stolen from other movies, LOTR, Star Wars and Matrix. Examples The ghost scene at the end was stolen from the final scene of the old Star Wars with Yoda, Obee One and Vader. The spider machine in the beginning was exactly like Frodo being attacked by the spider in Return of the Kings. Elijah Wood is the victim in both films and wait......it hypnotizes stings its victim and wraps them up.....uh hello???? And the whole machine vs. humans theme WAS the Matrix..or Terminator.....There are more examples but why waste the time? And will someone tell me what was with the Nazi's?!?! Nazi's???? There was a juvenile story line rushed to a juvenile conclusion. The movie could not decide if it was a children's movie or an adult movie and wasn't much of either. Just awful. A real disappointment to say the least. Save your money.                    \n"
     ]
    }
   ],
   "metadata": {}
  },
  {
   "cell_type": "code",
   "execution_count": null,
   "source": [],
   "outputs": [],
   "metadata": {}
  },
  {
   "cell_type": "code",
   "execution_count": null,
   "source": [],
   "outputs": [],
   "metadata": {}
  },
  {
   "cell_type": "code",
   "execution_count": null,
   "source": [],
   "outputs": [],
   "metadata": {}
  },
  {
   "cell_type": "code",
   "execution_count": null,
   "source": [],
   "outputs": [],
   "metadata": {}
  },
  {
   "cell_type": "code",
   "execution_count": null,
   "source": [],
   "outputs": [],
   "metadata": {}
  },
  {
   "cell_type": "code",
   "execution_count": null,
   "source": [],
   "outputs": [],
   "metadata": {}
  },
  {
   "cell_type": "code",
   "execution_count": null,
   "source": [],
   "outputs": [],
   "metadata": {}
  },
  {
   "cell_type": "code",
   "execution_count": null,
   "source": [],
   "outputs": [],
   "metadata": {}
  },
  {
   "cell_type": "code",
   "execution_count": null,
   "source": [],
   "outputs": [],
   "metadata": {}
  },
  {
   "cell_type": "code",
   "execution_count": null,
   "source": [],
   "outputs": [],
   "metadata": {}
  },
  {
   "cell_type": "code",
   "execution_count": null,
   "source": [],
   "outputs": [],
   "metadata": {}
  },
  {
   "cell_type": "code",
   "execution_count": null,
   "source": [],
   "outputs": [],
   "metadata": {}
  },
  {
   "cell_type": "code",
   "execution_count": null,
   "source": [],
   "outputs": [],
   "metadata": {}
  },
  {
   "cell_type": "code",
   "execution_count": null,
   "source": [
    "from nltk.probability import FreqDist\r\n",
    "from nltk.tokenize import word_tokenize\r\n",
    "tokenized_word = [word_tokenize(l) for l in df['review'].values]\r\n",
    "tokenized_word = np.concatenate(tokenized_word)\r\n"
   ],
   "outputs": [],
   "metadata": {}
  },
  {
   "cell_type": "code",
   "execution_count": null,
   "source": [
    "fdist = FreqDist(tokenized_word)\r\n"
   ],
   "outputs": [],
   "metadata": {}
  },
  {
   "cell_type": "code",
   "execution_count": null,
   "source": [],
   "outputs": [],
   "metadata": {}
  },
  {
   "cell_type": "code",
   "execution_count": null,
   "source": [],
   "outputs": [],
   "metadata": {}
  },
  {
   "cell_type": "code",
   "execution_count": null,
   "source": [],
   "outputs": [],
   "metadata": {}
  },
  {
   "cell_type": "code",
   "execution_count": null,
   "source": [],
   "outputs": [],
   "metadata": {}
  },
  {
   "cell_type": "code",
   "execution_count": null,
   "source": [
    "def train_test_split(df, test_samples):\r\n",
    "\r\n",
    "    # this fucntion splits df to train/test while maintains same number of\r\n",
    "    # categories in the test data\r\n",
    "    pos_index = list(df[df['sentiment'] == 'positive'].index)\r\n",
    "    neg_index = list(df[df['sentiment'] == 'negative'].index)\r\n",
    "    n = test_samples//2\r\n",
    "    i1 = random.sample(pos_index, n)\r\n",
    "    i2 = random.sample(neg_index, n)\r\n",
    "    test_index = np.concatenate((i1, i2))\r\n",
    "    train_index = [x for x in df.index if x not in test_index]\r\n",
    "    # training df\r\n",
    "    train_df = df.loc[train_index, :]\r\n",
    "    # testing df\r\n",
    "    test_df = df.loc[test_index, :]\r\n",
    "    return train_df, test_df\r\n"
   ],
   "outputs": [],
   "metadata": {}
  },
  {
   "cell_type": "code",
   "execution_count": null,
   "source": [
    "# split the dataframes\r\n",
    "train_df, test_df = train_test_split(df, test_samples)"
   ],
   "outputs": [],
   "metadata": {}
  },
  {
   "cell_type": "code",
   "execution_count": null,
   "source": [
    "# check the shape of the dataframes\r\n",
    "(train_df.shape, test_df.shape)"
   ],
   "outputs": [],
   "metadata": {}
  },
  {
   "cell_type": "code",
   "execution_count": null,
   "source": [],
   "outputs": [],
   "metadata": {}
  },
  {
   "cell_type": "code",
   "execution_count": null,
   "source": [],
   "outputs": [],
   "metadata": {}
  },
  {
   "cell_type": "code",
   "execution_count": null,
   "source": [],
   "outputs": [],
   "metadata": {}
  },
  {
   "cell_type": "code",
   "execution_count": null,
   "source": [],
   "outputs": [],
   "metadata": {}
  }
 ],
 "metadata": {
  "orig_nbformat": 4,
  "language_info": {
   "name": "python"
  }
 },
 "nbformat": 4,
 "nbformat_minor": 2
}