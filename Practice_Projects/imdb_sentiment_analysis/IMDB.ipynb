{
 "cells": [
  {
   "cell_type": "markdown",
   "source": [
    "# Sentiment Analysis on IMDB Reviews\n",
    "\n",
    "## Dataset: [IMDB Dataset of 50K Movie Reviews (Kaggle)](https://www.kaggle.com/lakshmi25npathi/imdb-dataset-of-50k-movie-reviews)\n",
    "## By: Amir Nejad, PhD.\n"
   ],
   "metadata": {}
  },
  {
   "cell_type": "code",
   "execution_count": 39,
   "source": [
    "import numpy as np\n",
    "import pandas as pd\n",
    "import matplotlib.pyplot as plt\n",
    "import random\n",
    "# string manipulations, NLTK, SPACY\n",
    "import re,string\n",
    "from bs4 import BeautifulSoup\n",
    "import nltk\n",
    "from nltk.corpus import stopwords\n",
    "from nltk.probability import FreqDist\n",
    "from spacy.lang.en import English\n",
    "# HPC\n",
    "from multiprocessing import Pool\n",
    "import functools\n",
    "# TF\n",
    "import tensorflow as tf\n",
    "import tensorflow_hub as hub\n",
    "import tensorflow_datasets as tfds\n",
    "from tensorflow.keras.preprocessing.text import text_to_word_sequence\n",
    "#Eval\n",
    "from sklearn.metrics import confusion_matrix"
   ],
   "outputs": [],
   "metadata": {}
  },
  {
   "cell_type": "code",
   "execution_count": 40,
   "source": [
    "# Settings'\n",
    "# pandas\n",
    "pd.set_option(\"display.max_columns\", 250)\n",
    "pd.set_option(\"display.max_rows\", 250)\n",
    "# matplotlib\n",
    "plt.rcParams['figure.figsize'] = (11, 8)\n",
    "plt.style.use('fivethirtyeight')\n",
    "# random\n",
    "SEED = 42\n",
    "random.seed(SEED)\n",
    "# spacy\n",
    "nlp = English()"
   ],
   "outputs": [],
   "metadata": {}
  },
  {
   "cell_type": "code",
   "execution_count": 3,
   "source": [
    "\n",
    "print(\"Version: \", tf.__version__)\n",
    "print(\"Eager mode: \", tf.executing_eagerly())\n",
    "print(\"Hub version: \", hub.__version__)\n",
    "print(\"GPU is\", \"available\" if tf.config.list_physical_devices('GPU') else \"NOT AVAILABLE\")"
   ],
   "outputs": [
    {
     "output_type": "stream",
     "name": "stdout",
     "text": [
      "Version:  2.5.0\n",
      "Eager mode:  True\n",
      "Hub version:  0.12.0\n",
      "GPU is NOT AVAILABLE\n"
     ]
    }
   ],
   "metadata": {}
  },
  {
   "cell_type": "code",
   "execution_count": 4,
   "source": [
    "train_data, test_data = tfds.load(name=\"imdb_reviews\", split=[\"train\", \"test\"], \n",
    "                                  batch_size=-1, as_supervised=True)\n",
    "\n",
    "train_examples, train_labels = tfds.as_numpy(train_data)\n",
    "test_examples, test_labels = tfds.as_numpy(test_data)"
   ],
   "outputs": [],
   "metadata": {}
  },
  {
   "cell_type": "code",
   "execution_count": 5,
   "source": [
    "f\"number of positive reviews: {len(np.where(train_labels==1)[0])}, number of negative reviews: {len(np.where(train_labels==0)[0])}\""
   ],
   "outputs": [
    {
     "output_type": "execute_result",
     "data": {
      "text/plain": [
       "'number of positive reviews: 12500, number of negative reviews: 12500'"
      ]
     },
     "metadata": {},
     "execution_count": 5
    }
   ],
   "metadata": {}
  },
  {
   "cell_type": "code",
   "execution_count": 6,
   "source": [
    "index=10\n",
    "(train_examples[index],train_labels[index])"
   ],
   "outputs": [
    {
     "output_type": "execute_result",
     "data": {
      "text/plain": [
       "(b'During a sleepless night, I was switching through the channels & found this embarrassment of a movie. What were they thinking?<br /><br />If this is life after \"Remote Control\" for Kari (Wuhrer) Salin, no wonder she\\'s gone nowhere.<br /><br />And why did David Keith take this role? It\\'s pathetic!<br /><br />Anyway, I turned on the movie near the end, so I didn\\'t get much of the plot. But this must\\'ve been the best part. This nerdy college kid brings home this dominatrix-ish girl...this scene is straight out of the comic books -- or the cheap porn movies. She calls the mother anal retentive and kisses the father \"Oh, I didn\\'t expect tongue!\" Great lines!<br /><br />After this, I had to see how it ended..<br /><br />Well, of course, this bitch from hell has a helluva past, so the SWAT team is upstairs. And yes...they surround her! And YES YES! The kid blows her brains out!!!! AHAHHAHAHAHA!!<br /><br />This is must-see TV. <br /><br />',\n",
       " 0)"
      ]
     },
     "metadata": {},
     "execution_count": 6
    }
   ],
   "metadata": {}
  },
  {
   "cell_type": "code",
   "execution_count": 116,
   "source": [
    "def cleaner(text):\n",
    "    text= str(text)\n",
    "    # remove urls\n",
    "    text = re.sub(r'http\\S+', ' ', text)\n",
    "    # remove  html components\n",
    "    text = BeautifulSoup(text, \"html.parser\").get_text()\n",
    "    tokens= text_to_word_sequence(text,filters='!\"#$%&()*+,-./:;<=>?@[\\\\]^_`{|}~\\t\\n', lower=True, split=' ')\n",
    "    return ' '.join([w for w in tokens])"
   ],
   "outputs": [],
   "metadata": {}
  },
  {
   "cell_type": "code",
   "execution_count": 117,
   "source": [
    "nCPU=14\n",
    "with Pool(nCPU) as p:\n",
    "    train_examples_processed=p.map(cleaner, train_examples)\n",
    "\n",
    "with Pool(nCPU) as p:\n",
    "    test_examples_processed=p.map(cleaner, test_examples)"
   ],
   "outputs": [],
   "metadata": {}
  },
  {
   "cell_type": "code",
   "execution_count": 118,
   "source": [
    "index=10\n",
    "(train_examples_processed[index],train_examples_processed[index])"
   ],
   "outputs": [
    {
     "output_type": "execute_result",
     "data": {
      "text/plain": [
       "(\"b'during a sleepless night i was switching through the channels found this embarrassment of a movie what were they thinking if this is life after remote control for kari wuhrer salin no wonder she 's gone nowhere and why did david keith take this role it 's pathetic anyway i turned on the movie near the end so i didn 't get much of the plot but this must 've been the best part this nerdy college kid brings home this dominatrix ish girl this scene is straight out of the comic books or the cheap porn movies she calls the mother anal retentive and kisses the father oh i didn 't expect tongue great lines after this i had to see how it ended well of course this bitch from hell has a helluva past so the swat team is upstairs and yes they surround her and yes yes the kid blows her brains out ahahhahahaha this is must see tv '\",\n",
       " \"b'during a sleepless night i was switching through the channels found this embarrassment of a movie what were they thinking if this is life after remote control for kari wuhrer salin no wonder she 's gone nowhere and why did david keith take this role it 's pathetic anyway i turned on the movie near the end so i didn 't get much of the plot but this must 've been the best part this nerdy college kid brings home this dominatrix ish girl this scene is straight out of the comic books or the cheap porn movies she calls the mother anal retentive and kisses the father oh i didn 't expect tongue great lines after this i had to see how it ended well of course this bitch from hell has a helluva past so the swat team is upstairs and yes they surround her and yes yes the kid blows her brains out ahahhahahaha this is must see tv '\")"
      ]
     },
     "metadata": {},
     "execution_count": 118
    }
   ],
   "metadata": {}
  },
  {
   "cell_type": "markdown",
   "source": [
    "## Create N-grams"
   ],
   "metadata": {}
  },
  {
   "cell_type": "code",
   "execution_count": 109,
   "source": [
    "def create_ngrams(my_typle):\n",
    "    text = my_typle[0]\n",
    "    n = int(my_typle[1])\n",
    "    tokens = nltk.word_tokenize(text)\n",
    "    ngram = tf.strings.ngrams(tokens, n).numpy()\n",
    "    return ngram"
   ],
   "outputs": [],
   "metadata": {}
  },
  {
   "cell_type": "code",
   "execution_count": 119,
   "source": [
    "gram = 4\n",
    "with Pool(nCPU) as p:\n",
    "    train_examples_ngrams=p.map(create_ngrams,[tuple((x,str(gram))) for x in  train_examples_processed])"
   ],
   "outputs": [],
   "metadata": {}
  },
  {
   "cell_type": "code",
   "execution_count": 120,
   "source": [
    "pos_gram = [train_examples_ngrams[x] for x in  np.where(train_labels==1)[0]]\n",
    "pos_dist = FreqDist(word.lower() for word in np.concatenate(pos_gram))\n",
    "pos_dist=  pd.DataFrame.from_dict(pos_dist, orient='index',columns=['Frequency']).sort_values('Frequency',ascending=False)\n",
    "neg_gram = [train_examples_ngrams[x] for x in  np.where(train_labels==0)[0]]\n",
    "neg_dist =FreqDist(word.lower() for word in np.concatenate(neg_gram))\n",
    "neg_dist= pd.DataFrame.from_dict(neg_dist, orient='index',columns=['Frequency']).sort_values('Frequency',ascending=False)"
   ],
   "outputs": [],
   "metadata": {}
  },
  {
   "cell_type": "code",
   "execution_count": 121,
   "source": [
    "top_n=10\n",
    "fig,ax =plt.subplots(nrows=1,ncols=2)\n",
    "ax[0].barh(y=pos_dist.index[:top_n], width=list(pos_dist['Frequency'].iloc[:top_n]),color='green')\n",
    "ax[0].set_title(f'Positive Reviews - {gram}Grams')\n",
    "ax[0].invert_yaxis()\n",
    "ax[1].barh(y=neg_dist.index[:top_n],width=list(neg_dist['Frequency'].iloc[:top_n]),color='red')\n",
    "ax[1].set_title(f'Negative Reviews - {gram}Grams')\n",
    "ax[1].invert_yaxis()\n",
    "fig.tight_layout()\n",
    "\n",
    "fig.show()"
   ],
   "outputs": [
    {
     "output_type": "display_data",
     "data": {
      "text/plain": [
       "<Figure size 792x576 with 2 Axes>"
      ],
      "image/png": "[encoded data removed]"
     },
     "metadata": {}
    }
   ],
   "metadata": {}
  },
  {
   "cell_type": "markdown",
   "source": [
    "## Word Embedding"
   ],
   "metadata": {}
  },
  {
   "cell_type": "code",
   "execution_count": 126,
   "source": [
    "# downloading the pre-trained Tensorflow model from tf-hub (model: Token based text embedding trained on English Google News 7B corpus.)\n",
    "model_loc = \"https://tfhub.dev/google/nnlm-en-dim50/2\""
   ],
   "outputs": [],
   "metadata": {}
  },
  {
   "cell_type": "code",
   "execution_count": 127,
   "source": [
    "# creating tensorflow hub  layer\n",
    "hub_layer = hub.KerasLayer(model_loc, input_shape=[], dtype=tf.string, trainable=True)\n"
   ],
   "outputs": [],
   "metadata": {}
  },
  {
   "cell_type": "code",
   "execution_count": 128,
   "source": [
    "model = tf.keras.Sequential()\n",
    "model.add(hub_layer)\n",
    "model.add(tf.keras.layers.Dense(16, activation='relu'))\n",
    "model.add(tf.keras.layers.Dense(1))\n",
    "\n",
    "model.summary()"
   ],
   "outputs": [
    {
     "output_type": "stream",
     "name": "stdout",
     "text": [
      "Model: \"sequential\"\n",
      "_________________________________________________________________\n",
      "Layer (type)                 Output Shape              Param #   \n",
      "=================================================================\n",
      "keras_layer_1 (KerasLayer)   (None, 50)                48190600  \n",
      "_________________________________________________________________\n",
      "dense (Dense)                (None, 16)                816       \n",
      "_________________________________________________________________\n",
      "dense_1 (Dense)              (None, 1)                 17        \n",
      "=================================================================\n",
      "Total params: 48,191,433\n",
      "Trainable params: 48,191,433\n",
      "Non-trainable params: 0\n",
      "_________________________________________________________________\n"
     ]
    }
   ],
   "metadata": {}
  },
  {
   "cell_type": "code",
   "execution_count": 129,
   "source": [
    "model.compile(optimizer='adam',\n",
    "              loss=tf.losses.BinaryCrossentropy(from_logits=True),\n",
    "              metrics=[tf.metrics.BinaryAccuracy(threshold=0.0, name='accuracy')])"
   ],
   "outputs": [],
   "metadata": {}
  },
  {
   "cell_type": "code",
   "execution_count": 131,
   "source": [
    "x_val = train_examples_processed[:10000]\n",
    "partial_x_train = train_examples_processed[10000:]\n",
    "\n",
    "y_val = train_labels[:10000]\n",
    "partial_y_train = train_labels[10000:]"
   ],
   "outputs": [],
   "metadata": {}
  },
  {
   "cell_type": "code",
   "execution_count": 141,
   "source": [
    "history = model.fit(np.array(partial_x_train),\n",
    "                    partial_y_train,\n",
    "                    epochs=40,\n",
    "                    batch_size=512,\n",
    "                    validation_data=(np.array(x_val), y_val),\n",
    "                    verbose=1)"
   ],
   "outputs": [
    {
     "output_type": "stream",
     "name": "stdout",
     "text": [
      "Epoch 1/40\n",
      "30/30 [==============================] - 23s 773ms/step - loss: 0.4880 - accuracy: 0.8183 - val_loss: 0.4419 - val_accuracy: 0.8336\n",
      "Epoch 2/40\n",
      "30/30 [==============================] - 24s 805ms/step - loss: 0.3613 - accuracy: 0.8773 - val_loss: 0.3553 - val_accuracy: 0.8632\n",
      "Epoch 3/40\n",
      "30/30 [==============================] - 20s 661ms/step - loss: 0.2655 - accuracy: 0.9099 - val_loss: 0.3045 - val_accuracy: 0.8772\n",
      "Epoch 4/40\n",
      "30/30 [==============================] - 21s 706ms/step - loss: 0.1988 - accuracy: 0.9355 - val_loss: 0.2795 - val_accuracy: 0.8866\n",
      "Epoch 5/40\n",
      "30/30 [==============================] - 21s 698ms/step - loss: 0.1525 - accuracy: 0.9533 - val_loss: 0.2702 - val_accuracy: 0.8908\n",
      "Epoch 6/40\n",
      "30/30 [==============================] - 19s 621ms/step - loss: 0.1161 - accuracy: 0.9687 - val_loss: 0.2657 - val_accuracy: 0.8938\n",
      "Epoch 7/40\n",
      "30/30 [==============================] - 24s 804ms/step - loss: 0.0883 - accuracy: 0.9799 - val_loss: 0.2677 - val_accuracy: 0.8930\n",
      "Epoch 8/40\n",
      "30/30 [==============================] - 24s 819ms/step - loss: 0.0682 - accuracy: 0.9867 - val_loss: 0.2750 - val_accuracy: 0.8920\n",
      "Epoch 9/40\n",
      "30/30 [==============================] - 24s 813ms/step - loss: 0.0521 - accuracy: 0.9919 - val_loss: 0.2797 - val_accuracy: 0.8925\n",
      "Epoch 10/40\n",
      "30/30 [==============================] - 25s 837ms/step - loss: 0.0403 - accuracy: 0.9943 - val_loss: 0.2890 - val_accuracy: 0.8896\n",
      "Epoch 11/40\n",
      "30/30 [==============================] - 23s 750ms/step - loss: 0.0312 - accuracy: 0.9966 - val_loss: 0.2984 - val_accuracy: 0.8886\n",
      "Epoch 12/40\n",
      "30/30 [==============================] - 23s 758ms/step - loss: 0.0246 - accuracy: 0.9977 - val_loss: 0.3086 - val_accuracy: 0.8875\n",
      "Epoch 13/40\n",
      "30/30 [==============================] - 20s 676ms/step - loss: 0.0195 - accuracy: 0.9985 - val_loss: 0.3180 - val_accuracy: 0.8864\n",
      "Epoch 14/40\n",
      "30/30 [==============================] - 23s 769ms/step - loss: 0.0157 - accuracy: 0.9990 - val_loss: 0.3285 - val_accuracy: 0.8871\n",
      "Epoch 15/40\n",
      "30/30 [==============================] - 23s 784ms/step - loss: 0.0127 - accuracy: 0.9992 - val_loss: 0.3375 - val_accuracy: 0.8863\n",
      "Epoch 16/40\n",
      "30/30 [==============================] - 24s 791ms/step - loss: 0.0104 - accuracy: 0.9994 - val_loss: 0.3457 - val_accuracy: 0.8853\n",
      "Epoch 17/40\n",
      "30/30 [==============================] - 24s 786ms/step - loss: 0.0085 - accuracy: 0.9997 - val_loss: 0.3543 - val_accuracy: 0.8840\n",
      "Epoch 18/40\n",
      "30/30 [==============================] - 24s 794ms/step - loss: 0.0071 - accuracy: 0.9999 - val_loss: 0.3643 - val_accuracy: 0.8854\n",
      "Epoch 19/40\n",
      "30/30 [==============================] - 24s 782ms/step - loss: 0.0060 - accuracy: 1.0000 - val_loss: 0.3711 - val_accuracy: 0.8826\n",
      "Epoch 20/40\n",
      "30/30 [==============================] - 24s 787ms/step - loss: 0.0051 - accuracy: 1.0000 - val_loss: 0.3786 - val_accuracy: 0.8834\n",
      "Epoch 21/40\n",
      "30/30 [==============================] - 24s 817ms/step - loss: 0.0044 - accuracy: 1.0000 - val_loss: 0.3858 - val_accuracy: 0.8831\n",
      "Epoch 22/40\n",
      "30/30 [==============================] - 22s 747ms/step - loss: 0.0039 - accuracy: 1.0000 - val_loss: 0.3929 - val_accuracy: 0.8831\n",
      "Epoch 23/40\n",
      "30/30 [==============================] - 22s 730ms/step - loss: 0.0034 - accuracy: 1.0000 - val_loss: 0.3992 - val_accuracy: 0.8828\n",
      "Epoch 24/40\n",
      "30/30 [==============================] - 22s 754ms/step - loss: 0.0030 - accuracy: 1.0000 - val_loss: 0.4058 - val_accuracy: 0.8823\n",
      "Epoch 25/40\n",
      "30/30 [==============================] - 24s 799ms/step - loss: 0.0027 - accuracy: 1.0000 - val_loss: 0.4108 - val_accuracy: 0.8822\n",
      "Epoch 26/40\n",
      "30/30 [==============================] - 23s 758ms/step - loss: 0.0024 - accuracy: 1.0000 - val_loss: 0.4165 - val_accuracy: 0.8825\n",
      "Epoch 27/40\n",
      "30/30 [==============================] - 24s 797ms/step - loss: 0.0022 - accuracy: 1.0000 - val_loss: 0.4216 - val_accuracy: 0.8820\n",
      "Epoch 28/40\n",
      "30/30 [==============================] - 22s 747ms/step - loss: 0.0020 - accuracy: 1.0000 - val_loss: 0.4271 - val_accuracy: 0.8820\n",
      "Epoch 29/40\n",
      "30/30 [==============================] - 25s 819ms/step - loss: 0.0018 - accuracy: 1.0000 - val_loss: 0.4323 - val_accuracy: 0.8819\n",
      "Epoch 30/40\n",
      "30/30 [==============================] - 21s 682ms/step - loss: 0.0017 - accuracy: 1.0000 - val_loss: 0.4368 - val_accuracy: 0.8823\n",
      "Epoch 31/40\n",
      "30/30 [==============================] - 13s 422ms/step - loss: 0.0015 - accuracy: 1.0000 - val_loss: 0.4410 - val_accuracy: 0.8825\n",
      "Epoch 32/40\n",
      "30/30 [==============================] - 8s 255ms/step - loss: 0.0014 - accuracy: 1.0000 - val_loss: 0.4457 - val_accuracy: 0.8820\n",
      "Epoch 33/40\n",
      "30/30 [==============================] - 8s 254ms/step - loss: 0.0013 - accuracy: 1.0000 - val_loss: 0.4501 - val_accuracy: 0.8825\n",
      "Epoch 34/40\n",
      "30/30 [==============================] - 8s 255ms/step - loss: 0.0012 - accuracy: 1.0000 - val_loss: 0.4542 - val_accuracy: 0.8822\n",
      "Epoch 35/40\n",
      "30/30 [==============================] - 8s 255ms/step - loss: 0.0011 - accuracy: 1.0000 - val_loss: 0.4587 - val_accuracy: 0.8818\n",
      "Epoch 36/40\n",
      "30/30 [==============================] - 8s 255ms/step - loss: 0.0010 - accuracy: 1.0000 - val_loss: 0.4625 - val_accuracy: 0.8817\n",
      "Epoch 37/40\n",
      "30/30 [==============================] - 8s 255ms/step - loss: 9.6955e-04 - accuracy: 1.0000 - val_loss: 0.4662 - val_accuracy: 0.8818\n",
      "Epoch 38/40\n",
      "30/30 [==============================] - 8s 257ms/step - loss: 9.0819e-04 - accuracy: 1.0000 - val_loss: 0.4701 - val_accuracy: 0.8816\n",
      "Epoch 39/40\n",
      "30/30 [==============================] - 8s 257ms/step - loss: 8.5093e-04 - accuracy: 1.0000 - val_loss: 0.4737 - val_accuracy: 0.8815\n",
      "Epoch 40/40\n",
      "30/30 [==============================] - 8s 252ms/step - loss: 7.9867e-04 - accuracy: 1.0000 - val_loss: 0.4776 - val_accuracy: 0.8814\n"
     ]
    }
   ],
   "metadata": {}
  },
  {
   "cell_type": "code",
   "execution_count": 146,
   "source": [
    "results = model.evaluate(np.array(test_examples_processed), test_labels)\n",
    "\n",
    "print(f\"accuracy: {np.round(results[1],3)*100}%\")"
   ],
   "outputs": [
    {
     "output_type": "stream",
     "name": "stdout",
     "text": [
      "782/782 [==============================] - 1s 2ms/step - loss: 0.5919 - accuracy: 0.8572\n",
      "accuracy: 85.7%\n"
     ]
    }
   ],
   "metadata": {}
  },
  {
   "cell_type": "code",
   "execution_count": 178,
   "source": [
    "test_predictions = model.predict_classes(np.array(test_examples_processed))"
   ],
   "outputs": [
    {
     "output_type": "stream",
     "name": "stderr",
     "text": [
      "/home/nejada/anaconda3/envs/tf_2x/lib/python3.7/site-packages/tensorflow/python/keras/engine/sequential.py:455: UserWarning: `model.predict_classes()` is deprecated and will be removed after 2021-01-01. Please use instead:* `np.argmax(model.predict(x), axis=-1)`,   if your model does multi-class classification   (e.g. if it uses a `softmax` last-layer activation).* `(model.predict(x) > 0.5).astype(\"int32\")`,   if your model does binary classification   (e.g. if it uses a `sigmoid` last-layer activation).\n",
      "  warnings.warn('`model.predict_classes()` is deprecated and '\n"
     ]
    }
   ],
   "metadata": {}
  },
  {
   "cell_type": "code",
   "execution_count": 179,
   "source": [
    "cm=confusion_matrix(test_labels,test_predictions,labels=[0,1])"
   ],
   "outputs": [],
   "metadata": {}
  },
  {
   "cell_type": "code",
   "execution_count": 181,
   "source": [
    "sns.heatmap(cm,annot=True,fmt=\"d\", linewidths=.5,cmap=\"YlGnBu\")"
   ],
   "outputs": [
    {
     "output_type": "execute_result",
     "data": {
      "text/plain": [
       "<AxesSubplot:>"
      ]
     },
     "metadata": {},
     "execution_count": 181
    },
    {
     "output_type": "display_data",
     "data": {
      "text/plain": [
       "<Figure size 792x576 with 2 Axes>"
      ],
      "image/png": "[encoded data removed]"
     },
     "metadata": {}
    }
   ],
   "metadata": {}
  },
  {
   "cell_type": "code",
   "execution_count": null,
   "source": [],
   "outputs": [],
   "metadata": {}
  }
 ],
 "metadata": {
  "orig_nbformat": 4,
  "language_info": {
   "name": "python",
   "version": "3.7.7",
   "mimetype": "text/x-python",
   "codemirror_mode": {
    "name": "ipython",
    "version": 3
   },
   "pygments_lexer": "ipython3",
   "nbconvert_exporter": "python",
   "file_extension": ".py"
  },
  "kernelspec": {
   "name": "python3",
   "display_name": "Python 3.7.7 64-bit ('tf_2x': conda)"
  },
  "interpreter": {
   "hash": "88b4a69311a6c5d2f36677fc8f93d7937fcfbc5d562502f49b4c29e65bd4a61a"
  }
 },
 "nbformat": 4,
 "nbformat_minor": 2
}