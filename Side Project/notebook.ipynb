{
 "cells": [
  {
   "cell_type": "code",
   "execution_count": 51,
   "metadata": {},
   "outputs": [],
   "source": [
    "import pandas as pd\n",
    "import numpy as np\n",
    "import requests\n",
    "from bs4 import BeautifulSoup\n",
    "import urllib"
   ]
  },
  {
   "cell_type": "code",
   "execution_count": 47,
   "metadata": {},
   "outputs": [],
   "source": [
    "def get_links():\n",
    "    # getting links of Tesla earnings call from www.fool.com\n",
    "    url = 'https://www.fool.com/quote/nasdaq/tesla/tsla/'\n",
    "    reqs = requests.get(url)\n",
    "    soup = BeautifulSoup(reqs.text, 'html.parser')\n",
    "    urls = []\n",
    "    for link in soup.find_all('a'):\n",
    "        urls.append(link.get('href'))\n",
    "    earning_links=[]\n",
    "    for url in urls:\n",
    "        if url is not None:\n",
    "            if '/earnings/call-transcripts/' in url:\n",
    "\n",
    "                earning_links.append('https://www.fool.com' + url)\n",
    "    return earning_links"
   ]
  },
  {
   "cell_type": "code",
   "execution_count": null,
   "metadata": {},
   "outputs": [],
   "source": []
  },
  {
   "cell_type": "code",
   "execution_count": 48,
   "metadata": {},
   "outputs": [],
   "source": [
    "earning_links = get_links()"
   ]
  },
  {
   "cell_type": "code",
   "execution_count": 50,
   "metadata": {},
   "outputs": [
    {
     "data": {
      "text/plain": [
       "'https://www.fool.com/earnings/call-transcripts/2021/04/27/tesla-tsla-q1-2021-earnings-call-transcript/'"
      ]
     },
     "execution_count": 50,
     "metadata": {},
     "output_type": "execute_result"
    }
   ],
   "source": [
    "earning_links[0]"
   ]
  },
  {
   "cell_type": "code",
   "execution_count": 54,
   "metadata": {},
   "outputs": [],
   "source": [
    "lnk= earning_links[0]\n",
    "with urllib.request.urlopen(lnk) as url:\n",
    "    html_content = url.read()"
   ]
  },
  {
   "cell_type": "code",
   "execution_count": 56,
   "metadata": {},
   "outputs": [],
   "source": [
    "soup = BeautifulSoup(html_content, 'lxml')"
   ]
  },
  {
   "cell_type": "code",
   "execution_count": 57,
   "metadata": {},
   "outputs": [
    {
     "data": {
      "text/plain": [
       "[]"
      ]
     },
     "execution_count": 57,
     "metadata": {},
     "output_type": "execute_result"
    }
   ],
   "source": [
    "soup.find_all(\"div\", {\"class\": \"usmf-new article-body\"})"
   ]
  },
  {
   "cell_type": "code",
   "execution_count": 66,
   "metadata": {},
   "outputs": [],
   "source": [
    "p = soup.findAll('p')"
   ]
  },
  {
   "cell_type": "code",
   "execution_count": 84,
   "metadata": {},
   "outputs": [
    {
     "data": {
      "text/plain": [
       "237"
      ]
     },
     "execution_count": 84,
     "metadata": {},
     "output_type": "execute_result"
    }
   ],
   "source": [
    "len(p)"
   ]
  },
  {
   "cell_type": "code",
   "execution_count": 91,
   "metadata": {},
   "outputs": [
    {
     "data": {
      "text/plain": [
       "[<p>Great. And then just related. As you see Berlin and Austin ramp, I'd like to just get a sense on the comparison of Fremont versus the new capacity. Obviously, Fremont non-optimized because you bought the old NUMMI facility.</p>,\n",
       " <p>You had to retrofit that to your need. So maybe you can give us a sense of how your new capacity is going to differ versus Fremont, what are the areas that you have efficiencies that you previously didn't have and maybe how much does that add up to improved COGS over time to help you achieve that $25,000 vehicle.</p>,\n",
       " <p><strong>Elon Musk</strong> -- <em>Chief Executive Officer and Product Architect</em></p>,\n",
       " <p>Yes. I think we don't want to talk too much about future product development. The earnings call is not the right place for -- to make major product announcement. So yes.</p>,\n",
       " <p>We'll get there, but we'll talk about it later.</p>,\n",
       " <p><strong>Martin Viecha</strong> -- <em>Senior Director of Investor Relations</em></p>,\n",
       " <p>All right. Thank you very much. Unfortunately, this is all the time we have for today. Thank you very much for dialing in and for listening, and we'll speak to you again in about three months.</p>,\n",
       " <p>Thank you.</p>,\n",
       " <p><strong>Elon Musk</strong> -- <em>Chief Executive Officer and Product Architect</em></p>,\n",
       " <p>Thanks everyone.</p>,\n",
       " <p><strong>Operator</strong></p>,\n",
       " <p>[Operator signoff]</p>,\n",
       " <p><strong>Duration: 65 minutes</strong></p>,\n",
       " <p><strong>Martin Viecha</strong> -- <em>Senior Director of Investor Relations</em></p>,\n",
       " <p><strong>Elon Musk</strong> -- <em>Chief Executive Officer and Product Architect</em></p>,\n",
       " <p><strong>Zachary Kirkhorn</strong> -- <em>Chief Financial Officer</em></p>,\n",
       " <p><strong>Unknown speaker</strong></p>,\n",
       " <p><strong>Pierre Ferragu</strong> -- <em>New Street Research -- Analyst</em></p>,\n",
       " <p><strong>Rod Lache</strong> -- <em>Wolfe Research -- Analyst</em></p>,\n",
       " <p><strong>Dan Levy</strong> -- <em>Credit Suisse -- Analyst</em></p>,\n",
       " <p></p>,\n",
       " <p><a href=\"https://www.fool.com/quote/tsla\">More TSLA analysis</a></p>,\n",
       " <p><a href=\"https://www.fool.com/earnings-call-transcripts/\">All earnings call transcripts</a></p>,\n",
       " <p class=\"launch-disclaimer\">Discounted offers are only available to new members. Stock Advisor will renew at the then current list price. Stock Advisor list price is $199 per year. </p>,\n",
       " <p class=\"launch-info\">Stock Advisor launched in February of 2002. Returns as of 07/13/2021.</p>,\n",
       " <p class=\"copyright\" id=\"footer-copyright-text\"></p>,\n",
       " <p>\n",
       "                   Market data powered by <a id=\"footer-fs\">FactSet</a> and <a id=\"footer-wfbg\">Web Financial Group</a>.\n",
       "               </p>]"
      ]
     },
     "execution_count": 91,
     "metadata": {},
     "output_type": "execute_result"
    }
   ],
   "source": [
    "p[210:]"
   ]
  },
  {
   "cell_type": "code",
   "execution_count": null,
   "metadata": {},
   "outputs": [],
   "source": []
  }
 ],
 "metadata": {
  "interpreter": {
   "hash": "88b4a69311a6c5d2f36677fc8f93d7937fcfbc5d562502f49b4c29e65bd4a61a"
  },
  "kernelspec": {
   "display_name": "Python 3.7.7 64-bit ('tf_2x': conda)",
   "name": "python3"
  },
  "language_info": {
   "codemirror_mode": {
    "name": "ipython",
    "version": 3
   },
   "file_extension": ".py",
   "mimetype": "text/x-python",
   "name": "python",
   "nbconvert_exporter": "python",
   "pygments_lexer": "ipython3",
   "version": "3.7.7"
  },
  "orig_nbformat": 4
 },
 "nbformat": 4,
 "nbformat_minor": 2
}